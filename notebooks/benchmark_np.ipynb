{
 "cells": [
  {
   "cell_type": "code",
   "id": "initial_id",
   "metadata": {
    "collapsed": true,
    "ExecuteTime": {
     "end_time": "2025-03-14T14:21:55.377144Z",
     "start_time": "2025-03-14T14:21:55.373566Z"
    }
   },
   "source": "import numpy as np",
   "outputs": [],
   "execution_count": 13
  },
  {
   "metadata": {
    "ExecuteTime": {
     "end_time": "2025-03-14T14:21:55.404725Z",
     "start_time": "2025-03-14T14:21:55.384149Z"
    }
   },
   "cell_type": "code",
   "source": [
    "shape = (1000, 1000)\n",
    "A = np.random.randn(*shape)\n",
    "B = np.where(0 < A, 1, 0)\n",
    "C = abs(A) / B"
   ],
   "id": "6ee3bf1320c9330e",
   "outputs": [
    {
     "name": "stderr",
     "output_type": "stream",
     "text": [
      "C:\\Users\\volke\\AppData\\Local\\Temp\\ipykernel_5556\\3187350205.py:4: RuntimeWarning: divide by zero encountered in divide\n",
      "  C = abs(A) / B\n"
     ]
    }
   ],
   "execution_count": 14
  },
  {
   "metadata": {
    "ExecuteTime": {
     "end_time": "2025-03-14T14:22:03.499009Z",
     "start_time": "2025-03-14T14:21:55.405735Z"
    }
   },
   "cell_type": "code",
   "source": [
    "%%timeit\n",
    "np.nan_to_num(C)"
   ],
   "id": "d14c032e97e26d3b",
   "outputs": [
    {
     "name": "stdout",
     "output_type": "stream",
     "text": [
      "9.72 ms ± 192 μs per loop (mean ± std. dev. of 7 runs, 100 loops each)\n"
     ]
    }
   ],
   "execution_count": 15
  },
  {
   "metadata": {
    "ExecuteTime": {
     "end_time": "2025-03-14T14:22:05.230804Z",
     "start_time": "2025-03-14T14:22:03.499009Z"
    }
   },
   "cell_type": "code",
   "source": [
    "%%timeit\n",
    "np.where(C == np.inf, C, 0.0)"
   ],
   "id": "5cb1680273a6094a",
   "outputs": [
    {
     "name": "stdout",
     "output_type": "stream",
     "text": [
      "2.11 ms ± 21.6 μs per loop (mean ± std. dev. of 7 runs, 100 loops each)\n"
     ]
    }
   ],
   "execution_count": 16
  }
 ],
 "metadata": {
  "kernelspec": {
   "display_name": "Python 3",
   "language": "python",
   "name": "python3"
  },
  "language_info": {
   "codemirror_mode": {
    "name": "ipython",
    "version": 2
   },
   "file_extension": ".py",
   "mimetype": "text/x-python",
   "name": "python",
   "nbconvert_exporter": "python",
   "pygments_lexer": "ipython2",
   "version": "2.7.6"
  }
 },
 "nbformat": 4,
 "nbformat_minor": 5
}
