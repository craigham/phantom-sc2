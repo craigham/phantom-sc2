{
 "cells": [
  {
   "metadata": {
    "ExecuteTime": {
     "end_time": "2025-03-02T14:33:44.158574Z",
     "start_time": "2025-03-02T14:33:44.154575Z"
    }
   },
   "cell_type": "code",
   "source": [
    "import math\n",
    "\n",
    "import cvxpy as cp\n",
    "import scipy as sp\n",
    "import numpy as np\n",
    "import pickle"
   ],
   "id": "468aaab68aeef5c6",
   "outputs": [],
   "execution_count": 9
  },
  {
   "metadata": {
    "ExecuteTime": {
     "end_time": "2025-03-02T14:33:44.177169Z",
     "start_time": "2025-03-02T14:33:44.160072Z"
    }
   },
   "cell_type": "code",
   "source": "cp.installed_solvers()",
   "id": "d3e23e07026656da",
   "outputs": [
    {
     "data": {
      "text/plain": [
       "['CLARABEL',\n",
       " 'CVXOPT',\n",
       " 'ECOS',\n",
       " 'ECOS_BB',\n",
       " 'GLPK',\n",
       " 'GLPK_MI',\n",
       " 'OSQP',\n",
       " 'SCIPY',\n",
       " 'SCS']"
      ]
     },
     "execution_count": 10,
     "metadata": {},
     "output_type": "execute_result"
    }
   ],
   "execution_count": 10
  },
  {
   "metadata": {
    "ExecuteTime": {
     "end_time": "2025-03-02T14:33:44.182668Z",
     "start_time": "2025-03-02T14:33:44.178174Z"
    }
   },
   "cell_type": "code",
   "source": [
    "N = 100\n",
    "M = 100\n",
    "max_assigned = math.ceil(N / M)\n",
    "np.random.seed(0)\n",
    "W = sp.stats.lognorm.rvs(s=1, size=(N, M))\n",
    "W"
   ],
   "id": "1ddee748d1f818e",
   "outputs": [
    {
     "data": {
      "text/plain": [
       "array([[ 5.83603919,  1.49205924,  2.66109578, ...,  5.96476998,\n",
       "         1.13531721,  1.49479543],\n",
       "       [ 6.57418553,  0.25982185,  0.28069545, ...,  2.27846997,\n",
       "         8.69924247,  3.80580659],\n",
       "       [ 0.69129969,  0.78711637,  3.00314357, ...,  1.79132161,\n",
       "         0.67068947,  1.44781553],\n",
       "       ...,\n",
       "       [ 0.94625443,  1.13956091,  1.55378061, ...,  2.64377323,\n",
       "         0.39893752,  1.94107219],\n",
       "       [ 0.87503499,  0.20880169,  0.17400845, ...,  1.07341762,\n",
       "        11.42413823,  2.6423831 ],\n",
       "       [ 0.39338669, 17.55262551,  0.16661859, ...,  1.67677479,\n",
       "         0.9676153 ,  3.66237349]], shape=(100, 100))"
      ]
     },
     "execution_count": 11,
     "metadata": {},
     "output_type": "execute_result"
    }
   ],
   "execution_count": 11
  },
  {
   "cell_type": "code",
   "id": "initial_id",
   "metadata": {
    "collapsed": true,
    "ExecuteTime": {
     "end_time": "2025-03-02T14:34:44.896462Z",
     "start_time": "2025-03-02T14:33:44.183674Z"
    }
   },
   "source": [
    "x = cp.Variable((N, M), 'x')\n",
    "w = cp.Parameter((N, M), name='w')\n",
    "constraints = [\n",
    "    cp.sum(x, 0) <= max_assigned,   # enforce even distribution\n",
    "    cp.sum(x, 1) == 1,\n",
    "    0 <= x,\n",
    "]\n",
    "problem = cp.Problem(cp.Minimize(cp.vdot(w, x)), constraints)\n",
    "\n",
    "# test and compile\n",
    "def solve_cvxpy():\n",
    "    w.value = W\n",
    "    problem.solve(solver='OSQP')\n",
    "    return x.value\n",
    "\n",
    "solve_cvxpy().argmax(1)"
   ],
   "outputs": [
    {
     "name": "stderr",
     "output_type": "stream",
     "text": [
      "C:\\Users\\volke\\AppData\\Local\\pypoetry\\Cache\\virtualenvs\\phantom-sc2-ZmbTkktB-py3.12\\Lib\\site-packages\\cvxpy\\reductions\\solvers\\solving_chain.py:254: UserWarning: Your problem has too many parameters for efficient DPP compilation. We suggest setting 'ignore_dpp = True'.\n",
      "  warnings.warn(\n"
     ]
    },
    {
     "ename": "KeyboardInterrupt",
     "evalue": "",
     "output_type": "error",
     "traceback": [
      "\u001B[31m---------------------------------------------------------------------------\u001B[39m",
      "\u001B[31mKeyboardInterrupt\u001B[39m                         Traceback (most recent call last)",
      "\u001B[36mCell\u001B[39m\u001B[36m \u001B[39m\u001B[32mIn[12]\u001B[39m\u001B[32m, line 16\u001B[39m\n\u001B[32m     13\u001B[39m     problem.solve(solver=\u001B[33m'\u001B[39m\u001B[33mCVXOPT\u001B[39m\u001B[33m'\u001B[39m)\n\u001B[32m     14\u001B[39m     \u001B[38;5;28;01mreturn\u001B[39;00m x.value\n\u001B[32m---> \u001B[39m\u001B[32m16\u001B[39m \u001B[43msolve_cvxpy\u001B[49m\u001B[43m(\u001B[49m\u001B[43m)\u001B[49m.argmax(\u001B[32m1\u001B[39m)\n",
      "\u001B[36mCell\u001B[39m\u001B[36m \u001B[39m\u001B[32mIn[12]\u001B[39m\u001B[32m, line 13\u001B[39m, in \u001B[36msolve_cvxpy\u001B[39m\u001B[34m()\u001B[39m\n\u001B[32m     11\u001B[39m \u001B[38;5;28;01mdef\u001B[39;00m\u001B[38;5;250m \u001B[39m\u001B[34msolve_cvxpy\u001B[39m():\n\u001B[32m     12\u001B[39m     w.value = W\n\u001B[32m---> \u001B[39m\u001B[32m13\u001B[39m     \u001B[43mproblem\u001B[49m\u001B[43m.\u001B[49m\u001B[43msolve\u001B[49m\u001B[43m(\u001B[49m\u001B[43msolver\u001B[49m\u001B[43m=\u001B[49m\u001B[33;43m'\u001B[39;49m\u001B[33;43mCVXOPT\u001B[39;49m\u001B[33;43m'\u001B[39;49m\u001B[43m)\u001B[49m\n\u001B[32m     14\u001B[39m     \u001B[38;5;28;01mreturn\u001B[39;00m x.value\n",
      "\u001B[36mFile \u001B[39m\u001B[32m~\\AppData\\Local\\pypoetry\\Cache\\virtualenvs\\phantom-sc2-ZmbTkktB-py3.12\\Lib\\site-packages\\cvxpy\\problems\\problem.py:577\u001B[39m, in \u001B[36mProblem.solve\u001B[39m\u001B[34m(self, *args, **kwargs)\u001B[39m\n\u001B[32m    574\u001B[39m         \u001B[38;5;28;01mraise\u001B[39;00m \u001B[38;5;167;01mValueError\u001B[39;00m(\n\u001B[32m    575\u001B[39m             \u001B[33m\"\u001B[39m\u001B[33mCannot specify both \u001B[39m\u001B[33m'\u001B[39m\u001B[33msolver\u001B[39m\u001B[33m'\u001B[39m\u001B[33m and \u001B[39m\u001B[33m'\u001B[39m\u001B[33msolver_path\u001B[39m\u001B[33m'\u001B[39m\u001B[33m. Please choose one.\u001B[39m\u001B[33m\"\u001B[39m)\n\u001B[32m    576\u001B[39m     \u001B[38;5;28;01mreturn\u001B[39;00m \u001B[38;5;28mself\u001B[39m._solve_solver_path(solve_func,solver_path, args, kwargs)\n\u001B[32m--> \u001B[39m\u001B[32m577\u001B[39m \u001B[38;5;28;01mreturn\u001B[39;00m \u001B[43msolve_func\u001B[49m\u001B[43m(\u001B[49m\u001B[38;5;28;43mself\u001B[39;49m\u001B[43m,\u001B[49m\u001B[43m \u001B[49m\u001B[43m*\u001B[49m\u001B[43margs\u001B[49m\u001B[43m,\u001B[49m\u001B[43m \u001B[49m\u001B[43m*\u001B[49m\u001B[43m*\u001B[49m\u001B[43mkwargs\u001B[49m\u001B[43m)\u001B[49m\n",
      "\u001B[36mFile \u001B[39m\u001B[32m~\\AppData\\Local\\pypoetry\\Cache\\virtualenvs\\phantom-sc2-ZmbTkktB-py3.12\\Lib\\site-packages\\cvxpy\\problems\\problem.py:1160\u001B[39m, in \u001B[36mProblem._solve\u001B[39m\u001B[34m(self, solver, warm_start, verbose, gp, qcp, requires_grad, enforce_dpp, ignore_dpp, canon_backend, **kwargs)\u001B[39m\n\u001B[32m   1158\u001B[39m \u001B[38;5;28;01mif\u001B[39;00m solver_verbose \u001B[38;5;129;01mand\u001B[39;00m (\u001B[38;5;129;01mnot\u001B[39;00m verbose):\n\u001B[32m   1159\u001B[39m     \u001B[38;5;28mprint\u001B[39m(_NUM_SOLVER_STR)\n\u001B[32m-> \u001B[39m\u001B[32m1160\u001B[39m solution = \u001B[43msolving_chain\u001B[49m\u001B[43m.\u001B[49m\u001B[43msolve_via_data\u001B[49m\u001B[43m(\u001B[49m\n\u001B[32m   1161\u001B[39m \u001B[43m    \u001B[49m\u001B[38;5;28;43mself\u001B[39;49m\u001B[43m,\u001B[49m\u001B[43m \u001B[49m\u001B[43mdata\u001B[49m\u001B[43m,\u001B[49m\u001B[43m \u001B[49m\u001B[43mwarm_start\u001B[49m\u001B[43m,\u001B[49m\u001B[43m \u001B[49m\u001B[43msolver_verbose\u001B[49m\u001B[43m,\u001B[49m\u001B[43m \u001B[49m\u001B[43mkwargs\u001B[49m\u001B[43m)\u001B[49m\n\u001B[32m   1162\u001B[39m end = time.time()\n\u001B[32m   1163\u001B[39m \u001B[38;5;28mself\u001B[39m._solve_time = end - start\n",
      "\u001B[36mFile \u001B[39m\u001B[32m~\\AppData\\Local\\pypoetry\\Cache\\virtualenvs\\phantom-sc2-ZmbTkktB-py3.12\\Lib\\site-packages\\cvxpy\\reductions\\solvers\\solving_chain.py:524\u001B[39m, in \u001B[36mSolvingChain.solve_via_data\u001B[39m\u001B[34m(self, problem, data, warm_start, verbose, solver_opts)\u001B[39m\n\u001B[32m    488\u001B[39m \u001B[38;5;28;01mdef\u001B[39;00m\u001B[38;5;250m \u001B[39m\u001B[34msolve_via_data\u001B[39m(\u001B[38;5;28mself\u001B[39m, problem, data, warm_start: \u001B[38;5;28mbool\u001B[39m = \u001B[38;5;28;01mFalse\u001B[39;00m, verbose: \u001B[38;5;28mbool\u001B[39m = \u001B[38;5;28;01mFalse\u001B[39;00m,\n\u001B[32m    489\u001B[39m                    solver_opts={}):\n\u001B[32m    490\u001B[39m \u001B[38;5;250m    \u001B[39m\u001B[33;03m\"\"\"Solves the problem using the data output by the an apply invocation.\u001B[39;00m\n\u001B[32m    491\u001B[39m \n\u001B[32m    492\u001B[39m \u001B[33;03m    The semantics are:\u001B[39;00m\n\u001B[32m   (...)\u001B[39m\u001B[32m    522\u001B[39m \u001B[33;03m        a Solution object.\u001B[39;00m\n\u001B[32m    523\u001B[39m \u001B[33;03m    \"\"\"\u001B[39;00m\n\u001B[32m--> \u001B[39m\u001B[32m524\u001B[39m     \u001B[38;5;28;01mreturn\u001B[39;00m \u001B[38;5;28;43mself\u001B[39;49m\u001B[43m.\u001B[49m\u001B[43msolver\u001B[49m\u001B[43m.\u001B[49m\u001B[43msolve_via_data\u001B[49m\u001B[43m(\u001B[49m\u001B[43mdata\u001B[49m\u001B[43m,\u001B[49m\u001B[43m \u001B[49m\u001B[43mwarm_start\u001B[49m\u001B[43m,\u001B[49m\u001B[43m \u001B[49m\u001B[43mverbose\u001B[49m\u001B[43m,\u001B[49m\n\u001B[32m    525\u001B[39m \u001B[43m                                      \u001B[49m\u001B[43msolver_opts\u001B[49m\u001B[43m,\u001B[49m\u001B[43m \u001B[49m\u001B[43mproblem\u001B[49m\u001B[43m.\u001B[49m\u001B[43m_solver_cache\u001B[49m\u001B[43m)\u001B[49m\n",
      "\u001B[36mFile \u001B[39m\u001B[32m~\\AppData\\Local\\pypoetry\\Cache\\virtualenvs\\phantom-sc2-ZmbTkktB-py3.12\\Lib\\site-packages\\cvxpy\\reductions\\solvers\\conic_solvers\\cvxopt_conif.py:201\u001B[39m, in \u001B[36mCVXOPT.solve_via_data\u001B[39m\u001B[34m(self, data, warm_start, verbose, solver_opts, solver_cache)\u001B[39m\n\u001B[32m    198\u001B[39m     kktsolver = kktsolver(c, G, h, dims, A, b)\n\u001B[32m    200\u001B[39m \u001B[38;5;28;01mtry\u001B[39;00m:\n\u001B[32m--> \u001B[39m\u001B[32m201\u001B[39m     results_dict = \u001B[43mcvxopt\u001B[49m\u001B[43m.\u001B[49m\u001B[43msolvers\u001B[49m\u001B[43m.\u001B[49m\u001B[43mconelp\u001B[49m\u001B[43m(\u001B[49m\u001B[43mc\u001B[49m\u001B[43m,\u001B[49m\u001B[43m \u001B[49m\u001B[43mG\u001B[49m\u001B[43m,\u001B[49m\u001B[43m \u001B[49m\u001B[43mh\u001B[49m\u001B[43m,\u001B[49m\u001B[43m \u001B[49m\u001B[43mdims\u001B[49m\u001B[43m,\u001B[49m\u001B[43m \u001B[49m\u001B[43mA\u001B[49m\u001B[43m,\u001B[49m\u001B[43m \u001B[49m\u001B[43mb\u001B[49m\u001B[43m,\u001B[49m\n\u001B[32m    202\u001B[39m \u001B[43m                                         \u001B[49m\u001B[43mkktsolver\u001B[49m\u001B[43m=\u001B[49m\u001B[43mkktsolver\u001B[49m\u001B[43m)\u001B[49m\n\u001B[32m    203\u001B[39m \u001B[38;5;66;03m# Catch exceptions in CVXOPT and convert them to solver errors.\u001B[39;00m\n\u001B[32m    204\u001B[39m \u001B[38;5;28;01mexcept\u001B[39;00m \u001B[38;5;167;01mValueError\u001B[39;00m:\n",
      "\u001B[36mFile \u001B[39m\u001B[32m~\\AppData\\Local\\pypoetry\\Cache\\virtualenvs\\phantom-sc2-ZmbTkktB-py3.12\\Lib\\site-packages\\cvxopt\\coneprog.py:1067\u001B[39m, in \u001B[36mconelp\u001B[39m\u001B[34m(c, G, h, dims, A, b, primalstart, dualstart, kktsolver, xnewcopy, xdot, xaxpy, xscal, ynewcopy, ydot, yaxpy, yscal, **kwargs)\u001B[39m\n\u001B[32m   1050\u001B[39m \u001B[38;5;66;03m# f3(x, y, z) solves\u001B[39;00m\n\u001B[32m   1051\u001B[39m \u001B[38;5;66;03m#\u001B[39;00m\n\u001B[32m   1052\u001B[39m \u001B[38;5;66;03m#     [ 0  A'  G'   ] [ ux        ]   [ bx ]\u001B[39;00m\n\u001B[32m   (...)\u001B[39m\u001B[32m   1062\u001B[39m \u001B[38;5;66;03m#     [-A   0   0     ]*[ y1        ] = -dgi * [ b ].\u001B[39;00m\n\u001B[32m   1063\u001B[39m \u001B[38;5;66;03m#     [-G   0   W'*W  ] [ W^{-1}*z1 ]          [ h ]\u001B[39;00m\n\u001B[32m   1066\u001B[39m \u001B[38;5;28;01mtry\u001B[39;00m:\n\u001B[32m-> \u001B[39m\u001B[32m1067\u001B[39m     f3 = \u001B[43mkktsolver\u001B[49m\u001B[43m(\u001B[49m\u001B[43mW\u001B[49m\u001B[43m)\u001B[49m\n\u001B[32m   1068\u001B[39m     \u001B[38;5;28;01mif\u001B[39;00m iters == \u001B[32m0\u001B[39m:\n\u001B[32m   1069\u001B[39m         x1, y1 = xnewcopy(c), ynewcopy(b)\n",
      "\u001B[36mFile \u001B[39m\u001B[32m~\\AppData\\Local\\pypoetry\\Cache\\virtualenvs\\phantom-sc2-ZmbTkktB-py3.12\\Lib\\site-packages\\cvxopt\\coneprog.py:585\u001B[39m, in \u001B[36mconelp.<locals>.kktsolver\u001B[39m\u001B[34m(W)\u001B[39m\n\u001B[32m    584\u001B[39m \u001B[38;5;28;01mdef\u001B[39;00m\u001B[38;5;250m \u001B[39m\u001B[34mkktsolver\u001B[39m(W):\n\u001B[32m--> \u001B[39m\u001B[32m585\u001B[39m     \u001B[38;5;28;01mreturn\u001B[39;00m \u001B[43mfactor\u001B[49m\u001B[43m(\u001B[49m\u001B[43mW\u001B[49m\u001B[43m)\u001B[49m\n",
      "\u001B[36mFile \u001B[39m\u001B[32m~\\AppData\\Local\\pypoetry\\Cache\\virtualenvs\\phantom-sc2-ZmbTkktB-py3.12\\Lib\\site-packages\\cvxopt\\misc.py:1275\u001B[39m, in \u001B[36mkkt_chol.<locals>.factor\u001B[39m\u001B[34m(W, H, Df)\u001B[39m\n\u001B[32m   1272\u001B[39m pack2(Gs, dims, mnl)\n\u001B[32m   1274\u001B[39m \u001B[38;5;66;03m# K = [Q1, Q2]' * (H + Gs' * Gs) * [Q1, Q2].\u001B[39;00m\n\u001B[32m-> \u001B[39m\u001B[32m1275\u001B[39m \u001B[43mblas\u001B[49m\u001B[43m.\u001B[49m\u001B[43msyrk\u001B[49m\u001B[43m(\u001B[49m\u001B[43mGs\u001B[49m\u001B[43m,\u001B[49m\u001B[43m \u001B[49m\u001B[43mK\u001B[49m\u001B[43m,\u001B[49m\u001B[43m \u001B[49m\u001B[43mk\u001B[49m\u001B[43m \u001B[49m\u001B[43m=\u001B[49m\u001B[43m \u001B[49m\u001B[43mcdim_pckd\u001B[49m\u001B[43m,\u001B[49m\u001B[43m \u001B[49m\u001B[43mtrans\u001B[49m\u001B[43m \u001B[49m\u001B[43m=\u001B[49m\u001B[43m \u001B[49m\u001B[33;43m'\u001B[39;49m\u001B[33;43mT\u001B[39;49m\u001B[33;43m'\u001B[39;49m\u001B[43m)\u001B[49m\n\u001B[32m   1276\u001B[39m \u001B[38;5;28;01mif\u001B[39;00m H \u001B[38;5;129;01mis\u001B[39;00m \u001B[38;5;129;01mnot\u001B[39;00m \u001B[38;5;28;01mNone\u001B[39;00m: K[:,:] += H\n\u001B[32m   1277\u001B[39m symm(K, n)\n",
      "\u001B[31mKeyboardInterrupt\u001B[39m: "
     ]
    }
   ],
   "execution_count": 12
  },
  {
   "metadata": {},
   "cell_type": "code",
   "source": [
    "A_ub = np.tile(np.identity(M), (1, N))\n",
    "b_ub = np.full(M, max_assigned)\n",
    "\n",
    "A_eq = np.repeat(np.identity(N), M, axis=1)\n",
    "b_eq = np.full(N, 1.0)\n",
    "\n",
    "c = W.flatten()"
   ],
   "id": "77e2971b9581f4eb",
   "outputs": [],
   "execution_count": null
  },
  {
   "metadata": {},
   "cell_type": "code",
   "source": [
    "def solve_highs():\n",
    "    return sp.optimize.linprog(\n",
    "        c=c,\n",
    "        A_ub=A_ub,\n",
    "        b_ub=b_ub,\n",
    "        A_eq=A_eq,\n",
    "        b_eq=b_eq,\n",
    "        method=\"highs\",\n",
    "    ).x.reshape((N, M))\n",
    "solve_highs().argmax(1)"
   ],
   "id": "c46510bf119b683e",
   "outputs": [],
   "execution_count": null
  },
  {
   "metadata": {},
   "cell_type": "code",
   "source": [
    "A_ub_sparse = sp.sparse.csr_matrix(A_ub)\n",
    "A_eq_sparse = sp.sparse.csr_matrix(A_eq)"
   ],
   "id": "710b30d6660aad60",
   "outputs": [],
   "execution_count": null
  },
  {
   "metadata": {},
   "cell_type": "code",
   "source": [
    "def solve_interior_point():\n",
    "    return sp.optimize.linprog(\n",
    "        c=c,\n",
    "        A_ub=A_ub,\n",
    "        b_ub=b_ub,\n",
    "        A_eq=A_eq,\n",
    "        b_eq=b_eq,\n",
    "        method=\"interior-point\",\n",
    "        options=dict(sparse=True),\n",
    "    ).x.reshape((N, M))\n",
    "solve_interior_point().argmax(1)"
   ],
   "id": "e91af1962c27ccd5",
   "outputs": [],
   "execution_count": null
  },
  {
   "metadata": {},
   "cell_type": "code",
   "source": [
    "%%timeit\n",
    "solve_cvxpy()"
   ],
   "id": "95859e9d9f9e6d3a",
   "outputs": [],
   "execution_count": null
  },
  {
   "metadata": {},
   "cell_type": "code",
   "source": [
    "%%timeit\n",
    "solve_highs()"
   ],
   "id": "4f8c82c3e09c2f2",
   "outputs": [],
   "execution_count": null
  },
  {
   "metadata": {},
   "cell_type": "code",
   "source": [
    "%%timeit\n",
    "solve_interior_point()"
   ],
   "id": "91e08b33e4116f14",
   "outputs": [],
   "execution_count": null
  }
 ],
 "metadata": {
  "kernelspec": {
   "display_name": "Python 3",
   "language": "python",
   "name": "python3"
  },
  "language_info": {
   "codemirror_mode": {
    "name": "ipython",
    "version": 2
   },
   "file_extension": ".py",
   "mimetype": "text/x-python",
   "name": "python",
   "nbconvert_exporter": "python",
   "pygments_lexer": "ipython2",
   "version": "2.7.6"
  }
 },
 "nbformat": 4,
 "nbformat_minor": 5
}
