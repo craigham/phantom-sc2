{
 "cells": [
  {
   "metadata": {
    "ExecuteTime": {
     "end_time": "2025-03-18T23:48:12.297129Z",
     "start_time": "2025-03-18T23:48:12.293647Z"
    }
   },
   "cell_type": "code",
   "source": [
    "import math\n",
    "import timeit\n",
    "\n",
    "import cvxpy as cp\n",
    "import scipy as sp\n",
    "import numpy as np\n",
    "import pickle"
   ],
   "id": "468aaab68aeef5c6",
   "outputs": [],
   "execution_count": 22
  },
  {
   "metadata": {
    "ExecuteTime": {
     "end_time": "2025-03-18T23:48:12.322913Z",
     "start_time": "2025-03-18T23:48:12.311853Z"
    }
   },
   "cell_type": "code",
   "source": "cp.installed_solvers()",
   "id": "d3e23e07026656da",
   "outputs": [
    {
     "data": {
      "text/plain": [
       "['CLARABEL',\n",
       " 'CVXOPT',\n",
       " 'ECOS',\n",
       " 'ECOS_BB',\n",
       " 'GLPK',\n",
       " 'GLPK_MI',\n",
       " 'HIGHS',\n",
       " 'MOSEK',\n",
       " 'OSQP',\n",
       " 'PIQP',\n",
       " 'PROXQP',\n",
       " 'SCIP',\n",
       " 'SCIPY',\n",
       " 'SCS',\n",
       " 'SDPA']"
      ]
     },
     "execution_count": 23,
     "metadata": {},
     "output_type": "execute_result"
    }
   ],
   "execution_count": 23
  },
  {
   "metadata": {
    "ExecuteTime": {
     "end_time": "2025-03-18T23:48:12.337491Z",
     "start_time": "2025-03-18T23:48:12.329671Z"
    }
   },
   "cell_type": "code",
   "source": [
    "N = 100\n",
    "M = 100\n",
    "max_assigned = math.ceil(N / M)\n",
    "np.random.seed(0)\n",
    "X0 = np.zeros((N, M))\n",
    "W = sp.stats.lognorm.rvs(s=1, size=(N, M))\n",
    "W"
   ],
   "id": "1ddee748d1f818e",
   "outputs": [
    {
     "data": {
      "text/plain": [
       "array([[ 5.83603919,  1.49205924,  2.66109578, ...,  5.96476998,\n",
       "         1.13531721,  1.49479543],\n",
       "       [ 6.57418553,  0.25982185,  0.28069545, ...,  2.27846997,\n",
       "         8.69924247,  3.80580659],\n",
       "       [ 0.69129969,  0.78711637,  3.00314357, ...,  1.79132161,\n",
       "         0.67068947,  1.44781553],\n",
       "       ...,\n",
       "       [ 0.94625443,  1.13956091,  1.55378061, ...,  2.64377323,\n",
       "         0.39893752,  1.94107219],\n",
       "       [ 0.87503499,  0.20880169,  0.17400845, ...,  1.07341762,\n",
       "        11.42413823,  2.6423831 ],\n",
       "       [ 0.39338669, 17.55262551,  0.16661859, ...,  1.67677479,\n",
       "         0.9676153 ,  3.66237349]], shape=(100, 100))"
      ]
     },
     "execution_count": 24,
     "metadata": {},
     "output_type": "execute_result"
    }
   ],
   "execution_count": 24
  },
  {
   "cell_type": "code",
   "id": "initial_id",
   "metadata": {
    "collapsed": true,
    "ExecuteTime": {
     "end_time": "2025-03-18T23:48:12.391838Z",
     "start_time": "2025-03-18T23:48:12.337491Z"
    }
   },
   "source": [
    "x = cp.Variable((N, M), 'x')\n",
    "w = cp.Parameter((N, M), name='w')\n",
    "constraints = [\n",
    "    cp.sum(x, 0) <= max_assigned,   # enforce even distribution\n",
    "    cp.sum(x, 1) == 1,\n",
    "    0 <= x,\n",
    "]\n",
    "problem = cp.Problem(cp.Minimize(cp.vdot(w, x)), constraints)\n",
    "\n",
    "# test and compile\n",
    "def solve_cvxpy(solver, wv):\n",
    "    x.value = X0\n",
    "    w.value = wv\n",
    "    problem.solve(solver=solver,\n",
    "                  requires_grad=False,\n",
    "                  ignore_dpp=True,\n",
    "                  canon_backend=cp.SCIPY_CANON_BACKEND)\n",
    "    return x.value\n",
    "\n",
    "solve_cvxpy(\"ECOS\", W).argmax(1)"
   ],
   "outputs": [
    {
     "data": {
      "text/plain": [
       "array([33, 40, 78, 34, 22, 89, 51, 35, 50, 13, 39, 29, 56, 97, 46, 83, 63,\n",
       "       86, 90, 11, 18, 14, 54, 60, 72,  7, 92,  0,  6, 48, 20, 24,  3, 70,\n",
       "       62, 45, 79, 52, 53, 12,  9, 21, 38, 37, 69, 82, 74, 93, 49, 10, 23,\n",
       "       91, 31, 28, 57, 94, 85, 76,  4, 26, 15, 64, 47, 55, 44, 30,  5, 27,\n",
       "       84, 61, 65,  1, 19, 25, 32, 77, 95, 98, 99, 80, 42, 75, 16, 73, 59,\n",
       "       17, 41, 81, 87, 71, 96, 88, 43, 36, 58, 68, 66, 67,  8,  2])"
      ]
     },
     "execution_count": 25,
     "metadata": {},
     "output_type": "execute_result"
    }
   ],
   "execution_count": 25
  },
  {
   "metadata": {
    "ExecuteTime": {
     "end_time": "2025-03-18T23:48:12.400209Z",
     "start_time": "2025-03-18T23:48:12.391838Z"
    }
   },
   "cell_type": "code",
   "source": [
    "A_ub = np.tile(np.identity(M), (1, N))\n",
    "b_ub = np.full(M, max_assigned)\n",
    "\n",
    "A_eq = np.repeat(np.identity(N), M, axis=1)\n",
    "b_eq = np.full(N, 1.0)\n",
    "\n",
    "c = W.flatten()"
   ],
   "id": "77e2971b9581f4eb",
   "outputs": [],
   "execution_count": 26
  },
  {
   "metadata": {
    "ExecuteTime": {
     "end_time": "2025-03-18T23:48:12.439071Z",
     "start_time": "2025-03-18T23:48:12.400209Z"
    }
   },
   "cell_type": "code",
   "source": [
    "def solve_highs():\n",
    "    return sp.optimize.linprog(\n",
    "        c=c,\n",
    "        A_ub=A_ub,\n",
    "        b_ub=b_ub,\n",
    "        A_eq=A_eq,\n",
    "        b_eq=b_eq,\n",
    "        method=\"highs\",\n",
    "    ).x.reshape((N, M))\n",
    "solve_highs().argmax(1)"
   ],
   "id": "c46510bf119b683e",
   "outputs": [
    {
     "data": {
      "text/plain": [
       "array([33, 40, 78, 34, 22, 89, 51, 35, 50, 13, 39, 29, 56, 97, 46, 83, 63,\n",
       "       86, 90, 11, 18, 14, 54, 60, 72,  7, 92,  0,  6, 48, 20, 24,  3, 70,\n",
       "       62, 45, 79, 52, 53, 12,  9, 21, 38, 37, 69, 82, 74, 93, 49, 10, 23,\n",
       "       91, 31, 28, 57, 94, 85, 76,  4, 26, 15, 64, 47, 55, 44, 30,  5, 27,\n",
       "       84, 61, 65,  1, 19, 25, 32, 77, 95, 98, 99, 80, 42, 75, 16, 73, 59,\n",
       "       17, 41, 81, 87, 71, 96, 88, 43, 36, 58, 68, 66, 67,  8,  2])"
      ]
     },
     "execution_count": 27,
     "metadata": {},
     "output_type": "execute_result"
    }
   ],
   "execution_count": 27
  },
  {
   "metadata": {
    "ExecuteTime": {
     "end_time": "2025-03-18T23:48:12.453481Z",
     "start_time": "2025-03-18T23:48:12.439071Z"
    }
   },
   "cell_type": "code",
   "source": [
    "A_ub_sparse = sp.sparse.csr_matrix(A_ub)\n",
    "A_eq_sparse = sp.sparse.csr_matrix(A_eq)"
   ],
   "id": "710b30d6660aad60",
   "outputs": [],
   "execution_count": 28
  },
  {
   "metadata": {
    "ExecuteTime": {
     "end_time": "2025-03-18T23:48:12.642948Z",
     "start_time": "2025-03-18T23:48:12.453481Z"
    }
   },
   "cell_type": "code",
   "source": [
    "def solve_interior_point():\n",
    "    return sp.optimize.linprog(\n",
    "        c=c,\n",
    "        A_ub=A_ub,\n",
    "        b_ub=b_ub,\n",
    "        A_eq=A_eq,\n",
    "        b_eq=b_eq,\n",
    "        method=\"interior-point\",\n",
    "        options=dict(sparse=True),\n",
    "    ).x.reshape((N, M))\n",
    "solve_interior_point().argmax(1)"
   ],
   "id": "e91af1962c27ccd5",
   "outputs": [
    {
     "name": "stderr",
     "output_type": "stream",
     "text": [
      "C:\\Users\\volke\\AppData\\Local\\Temp\\ipykernel_26908\\3670224332.py:2: DeprecationWarning: `method='interior-point'` is deprecated and will be removed in SciPy 1.11.0. Please use one of the HiGHS solvers (e.g. `method='highs'`) in new code.\n",
      "  return sp.optimize.linprog(\n"
     ]
    },
    {
     "data": {
      "text/plain": [
       "array([33, 40, 78, 34, 22, 89, 51, 35, 50, 13, 39, 29, 56, 97, 46, 83, 63,\n",
       "       86, 90, 11, 18, 14, 54, 60, 72,  7, 92,  0,  6, 48, 20, 24,  3, 70,\n",
       "       62, 45, 79, 52, 53, 12,  9, 21, 38, 37, 69, 82, 74, 93, 49, 10, 23,\n",
       "       91, 31, 28, 57, 94, 85, 76,  4, 26, 15, 64, 47, 55, 44, 30,  5, 27,\n",
       "       84, 61, 65,  1, 19, 25, 32, 77, 95, 98, 99, 80, 42, 75, 16, 73, 59,\n",
       "       17, 41, 81, 87, 71, 96, 88, 43, 36, 58, 68, 66, 67,  8,  2])"
      ]
     },
     "execution_count": 29,
     "metadata": {},
     "output_type": "execute_result"
    }
   ],
   "execution_count": 29
  },
  {
   "metadata": {
    "ExecuteTime": {
     "end_time": "2025-03-18T23:51:16.020548Z",
     "start_time": "2025-03-18T23:51:10.620049Z"
    }
   },
   "cell_type": "code",
   "source": [
    "exclude_solvers = {\n",
    "    \"CVXOPT\",\n",
    "    \"MOSEK\",    # requires license\n",
    "    \"SCS\",\n",
    "    \"PIQP\",\n",
    "    \"SCIP\",\n",
    "    \"SDPA\",\n",
    "    \"GLPK\",\n",
    "    \"PDLP\",\n",
    "    \"OSQP\",\n",
    "    \"PROXQP\",\n",
    "}\n",
    "solvers = sorted(set(cp.installed_solvers()) - exclude_solvers)\n",
    "n = 16\n",
    "for solver in solvers:\n",
    "    print(solver, end=\"\\t\")\n",
    "    solve_cvxpy(solver, W)\n",
    "    wv = sp.stats.lognorm.rvs(s=1, size=(N, M))\n",
    "    print(1000 * timeit.timeit(lambda: solve_cvxpy(solver, wv), number=n) / n)"
   ],
   "id": "e7ee1d7f8b0b8475",
   "outputs": [
    {
     "name": "stdout",
     "output_type": "stream",
     "text": [
      "CLARABEL\t55.37041249772301\n",
      "ECOS\t41.032393753994256\n",
      "ECOS_BB\t40.29933750280179\n",
      "GLPK_MI\t104.06780624907697\n",
      "HIGHS\t43.32822500145994\n",
      "SCIPY\t30.92369999649236\n"
     ]
    }
   ],
   "execution_count": 41
  },
  {
   "metadata": {
    "ExecuteTime": {
     "end_time": "2025-03-18T23:51:21.585819Z",
     "start_time": "2025-03-18T23:51:19.157081Z"
    }
   },
   "cell_type": "code",
   "source": [
    "%%timeit\n",
    "solve_highs()"
   ],
   "id": "4f8c82c3e09c2f2",
   "outputs": [
    {
     "name": "stdout",
     "output_type": "stream",
     "text": [
      "30 ms ± 1.96 ms per loop (mean ± std. dev. of 7 runs, 10 loops each)\n"
     ]
    }
   ],
   "execution_count": 42
  },
  {
   "metadata": {
    "ExecuteTime": {
     "end_time": "2025-03-18T23:48:31.034692Z",
     "start_time": "2025-03-18T23:48:16.590564Z"
    }
   },
   "cell_type": "code",
   "source": [
    "%%timeit\n",
    "solve_interior_point()"
   ],
   "id": "91e08b33e4116f14",
   "outputs": [
    {
     "name": "stderr",
     "output_type": "stream",
     "text": [
      "C:\\Users\\volke\\AppData\\Local\\Temp\\ipykernel_26908\\3670224332.py:2: DeprecationWarning: `method='interior-point'` is deprecated and will be removed in SciPy 1.11.0. Please use one of the HiGHS solvers (e.g. `method='highs'`) in new code.\n",
      "  return sp.optimize.linprog(\n"
     ]
    },
    {
     "name": "stdout",
     "output_type": "stream",
     "text": [
      "179 ms ± 5.94 ms per loop (mean ± std. dev. of 7 runs, 10 loops each)\n"
     ]
    }
   ],
   "execution_count": 32
  }
 ],
 "metadata": {
  "kernelspec": {
   "display_name": "Python 3",
   "language": "python",
   "name": "python3"
  },
  "language_info": {
   "codemirror_mode": {
    "name": "ipython",
    "version": 2
   },
   "file_extension": ".py",
   "mimetype": "text/x-python",
   "name": "python",
   "nbconvert_exporter": "python",
   "pygments_lexer": "ipython2",
   "version": "2.7.6"
  }
 },
 "nbformat": 4,
 "nbformat_minor": 5
}
